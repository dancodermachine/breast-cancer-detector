{
 "cells": [
  {
   "cell_type": "markdown",
   "metadata": {},
   "source": [
    "# Breast Cancer Detector\n",
    "## 1. Data Collection"
   ]
  },
  {
   "cell_type": "code",
   "execution_count": 1,
   "metadata": {},
   "outputs": [],
   "source": [
    "import pandas as pd\n",
    "import numpy as np\n",
    "import seaborn as sns\n",
    "import matplotlib.pyplot as plt\n",
    "\n",
    "from sklearn.model_selection import train_test_split, GridSearchCV\n",
    "from sklearn.metrics import classification_report, recall_score, make_scorer\n",
    "\n",
    "import pickle\n",
    "\n",
    "from sklearn.neighbors import KNeighborsClassifier\n",
    "from sklearn.linear_model import LogisticRegression\n",
    "from sklearn.svm import SVC \n",
    "\n",
    "random_state=101096\n",
    "plt.rcParams[\"figure.figsize\"] = (8, 5)"
   ]
  },
  {
   "cell_type": "code",
   "execution_count": 2,
   "metadata": {},
   "outputs": [
    {
     "data": {
      "text/html": [
       "<div>\n",
       "<style scoped>\n",
       "    .dataframe tbody tr th:only-of-type {\n",
       "        vertical-align: middle;\n",
       "    }\n",
       "\n",
       "    .dataframe tbody tr th {\n",
       "        vertical-align: top;\n",
       "    }\n",
       "\n",
       "    .dataframe thead th {\n",
       "        text-align: right;\n",
       "    }\n",
       "</style>\n",
       "<table border=\"1\" class=\"dataframe\">\n",
       "  <thead>\n",
       "    <tr style=\"text-align: right;\">\n",
       "      <th></th>\n",
       "      <th>id</th>\n",
       "      <th>clump_thickness</th>\n",
       "      <th>uniform_cell_size</th>\n",
       "      <th>uniform_cell_shape</th>\n",
       "      <th>marginal_adhesion</th>\n",
       "      <th>single_epithelial_size</th>\n",
       "      <th>bare_nuclei</th>\n",
       "      <th>bland_chromatin</th>\n",
       "      <th>normal_nucleoli</th>\n",
       "      <th>mitoses</th>\n",
       "      <th>class</th>\n",
       "    </tr>\n",
       "  </thead>\n",
       "  <tbody>\n",
       "    <tr>\n",
       "      <th>0</th>\n",
       "      <td>1000025</td>\n",
       "      <td>5</td>\n",
       "      <td>1</td>\n",
       "      <td>1</td>\n",
       "      <td>1</td>\n",
       "      <td>2</td>\n",
       "      <td>1</td>\n",
       "      <td>3</td>\n",
       "      <td>1</td>\n",
       "      <td>1</td>\n",
       "      <td>2</td>\n",
       "    </tr>\n",
       "    <tr>\n",
       "      <th>1</th>\n",
       "      <td>1002945</td>\n",
       "      <td>5</td>\n",
       "      <td>4</td>\n",
       "      <td>4</td>\n",
       "      <td>5</td>\n",
       "      <td>7</td>\n",
       "      <td>10</td>\n",
       "      <td>3</td>\n",
       "      <td>2</td>\n",
       "      <td>1</td>\n",
       "      <td>2</td>\n",
       "    </tr>\n",
       "    <tr>\n",
       "      <th>2</th>\n",
       "      <td>1015425</td>\n",
       "      <td>3</td>\n",
       "      <td>1</td>\n",
       "      <td>1</td>\n",
       "      <td>1</td>\n",
       "      <td>2</td>\n",
       "      <td>2</td>\n",
       "      <td>3</td>\n",
       "      <td>1</td>\n",
       "      <td>1</td>\n",
       "      <td>2</td>\n",
       "    </tr>\n",
       "    <tr>\n",
       "      <th>3</th>\n",
       "      <td>1016277</td>\n",
       "      <td>6</td>\n",
       "      <td>8</td>\n",
       "      <td>8</td>\n",
       "      <td>1</td>\n",
       "      <td>3</td>\n",
       "      <td>4</td>\n",
       "      <td>3</td>\n",
       "      <td>7</td>\n",
       "      <td>1</td>\n",
       "      <td>2</td>\n",
       "    </tr>\n",
       "    <tr>\n",
       "      <th>4</th>\n",
       "      <td>1017023</td>\n",
       "      <td>4</td>\n",
       "      <td>1</td>\n",
       "      <td>1</td>\n",
       "      <td>3</td>\n",
       "      <td>2</td>\n",
       "      <td>1</td>\n",
       "      <td>3</td>\n",
       "      <td>1</td>\n",
       "      <td>1</td>\n",
       "      <td>2</td>\n",
       "    </tr>\n",
       "  </tbody>\n",
       "</table>\n",
       "</div>"
      ],
      "text/plain": [
       "        id  clump_thickness  uniform_cell_size  uniform_cell_shape  \\\n",
       "0  1000025                5                  1                   1   \n",
       "1  1002945                5                  4                   4   \n",
       "2  1015425                3                  1                   1   \n",
       "3  1016277                6                  8                   8   \n",
       "4  1017023                4                  1                   1   \n",
       "\n",
       "   marginal_adhesion  single_epithelial_size bare_nuclei  bland_chromatin  \\\n",
       "0                  1                       2           1                3   \n",
       "1                  5                       7          10                3   \n",
       "2                  1                       2           2                3   \n",
       "3                  1                       3           4                3   \n",
       "4                  3                       2           1                3   \n",
       "\n",
       "   normal_nucleoli  mitoses  class  \n",
       "0                1        1      2  \n",
       "1                2        1      2  \n",
       "2                1        1      2  \n",
       "3                7        1      2  \n",
       "4                1        1      2  "
      ]
     },
     "execution_count": 2,
     "metadata": {},
     "output_type": "execute_result"
    }
   ],
   "source": [
    "url = \"breast_cancer.csv\"\n",
    "\n",
    "head_names = ['id', 'clump_thickness', 'uniform_cell_size', 'uniform_cell_shape', 'marginal_adhesion',\n",
    "              'single_epithelial_size', 'bare_nuclei', 'bland_chromatin', 'normal_nucleoli', 'mitoses', 'class']\n",
    "\n",
    "dataframe = pd.read_csv(url, names=head_names)\n",
    "\n",
    "dataframe.head()"
   ]
  },
  {
   "cell_type": "markdown",
   "metadata": {},
   "source": [
    "## 2. Data Description & Cleaning"
   ]
  },
  {
   "cell_type": "code",
   "execution_count": 3,
   "metadata": {},
   "outputs": [
    {
     "name": "stdout",
     "output_type": "stream",
     "text": [
      "<class 'pandas.core.frame.DataFrame'>\n",
      "RangeIndex: 699 entries, 0 to 698\n",
      "Data columns (total 11 columns):\n",
      " #   Column                  Non-Null Count  Dtype \n",
      "---  ------                  --------------  ----- \n",
      " 0   id                      699 non-null    int64 \n",
      " 1   clump_thickness         699 non-null    int64 \n",
      " 2   uniform_cell_size       699 non-null    int64 \n",
      " 3   uniform_cell_shape      699 non-null    int64 \n",
      " 4   marginal_adhesion       699 non-null    int64 \n",
      " 5   single_epithelial_size  699 non-null    int64 \n",
      " 6   bare_nuclei             699 non-null    object\n",
      " 7   bland_chromatin         699 non-null    int64 \n",
      " 8   normal_nucleoli         699 non-null    int64 \n",
      " 9   mitoses                 699 non-null    int64 \n",
      " 10  class                   699 non-null    int64 \n",
      "dtypes: int64(10), object(1)\n",
      "memory usage: 60.2+ KB\n"
     ]
    }
   ],
   "source": [
    "dataframe.info()"
   ]
  },
  {
   "cell_type": "markdown",
   "metadata": {},
   "source": [
    "* `bare_nuclei` column is object type.\n",
    "* `id` column is not useful."
   ]
  },
  {
   "cell_type": "code",
   "execution_count": 4,
   "metadata": {},
   "outputs": [
    {
     "data": {
      "text/html": [
       "<div>\n",
       "<style scoped>\n",
       "    .dataframe tbody tr th:only-of-type {\n",
       "        vertical-align: middle;\n",
       "    }\n",
       "\n",
       "    .dataframe tbody tr th {\n",
       "        vertical-align: top;\n",
       "    }\n",
       "\n",
       "    .dataframe thead th {\n",
       "        text-align: right;\n",
       "    }\n",
       "</style>\n",
       "<table border=\"1\" class=\"dataframe\">\n",
       "  <thead>\n",
       "    <tr style=\"text-align: right;\">\n",
       "      <th></th>\n",
       "      <th>id</th>\n",
       "      <th>clump_thickness</th>\n",
       "      <th>uniform_cell_size</th>\n",
       "      <th>uniform_cell_shape</th>\n",
       "      <th>marginal_adhesion</th>\n",
       "      <th>single_epithelial_size</th>\n",
       "      <th>bland_chromatin</th>\n",
       "      <th>normal_nucleoli</th>\n",
       "      <th>mitoses</th>\n",
       "      <th>class</th>\n",
       "    </tr>\n",
       "  </thead>\n",
       "  <tbody>\n",
       "    <tr>\n",
       "      <th>count</th>\n",
       "      <td>6.990000e+02</td>\n",
       "      <td>699.000000</td>\n",
       "      <td>699.000000</td>\n",
       "      <td>699.000000</td>\n",
       "      <td>699.000000</td>\n",
       "      <td>699.000000</td>\n",
       "      <td>699.000000</td>\n",
       "      <td>699.000000</td>\n",
       "      <td>699.000000</td>\n",
       "      <td>699.000000</td>\n",
       "    </tr>\n",
       "    <tr>\n",
       "      <th>mean</th>\n",
       "      <td>1.071704e+06</td>\n",
       "      <td>4.417740</td>\n",
       "      <td>3.134478</td>\n",
       "      <td>3.207439</td>\n",
       "      <td>2.806867</td>\n",
       "      <td>3.216023</td>\n",
       "      <td>3.437768</td>\n",
       "      <td>2.866953</td>\n",
       "      <td>1.589413</td>\n",
       "      <td>2.689557</td>\n",
       "    </tr>\n",
       "    <tr>\n",
       "      <th>std</th>\n",
       "      <td>6.170957e+05</td>\n",
       "      <td>2.815741</td>\n",
       "      <td>3.051459</td>\n",
       "      <td>2.971913</td>\n",
       "      <td>2.855379</td>\n",
       "      <td>2.214300</td>\n",
       "      <td>2.438364</td>\n",
       "      <td>3.053634</td>\n",
       "      <td>1.715078</td>\n",
       "      <td>0.951273</td>\n",
       "    </tr>\n",
       "    <tr>\n",
       "      <th>min</th>\n",
       "      <td>6.163400e+04</td>\n",
       "      <td>1.000000</td>\n",
       "      <td>1.000000</td>\n",
       "      <td>1.000000</td>\n",
       "      <td>1.000000</td>\n",
       "      <td>1.000000</td>\n",
       "      <td>1.000000</td>\n",
       "      <td>1.000000</td>\n",
       "      <td>1.000000</td>\n",
       "      <td>2.000000</td>\n",
       "    </tr>\n",
       "    <tr>\n",
       "      <th>25%</th>\n",
       "      <td>8.706885e+05</td>\n",
       "      <td>2.000000</td>\n",
       "      <td>1.000000</td>\n",
       "      <td>1.000000</td>\n",
       "      <td>1.000000</td>\n",
       "      <td>2.000000</td>\n",
       "      <td>2.000000</td>\n",
       "      <td>1.000000</td>\n",
       "      <td>1.000000</td>\n",
       "      <td>2.000000</td>\n",
       "    </tr>\n",
       "    <tr>\n",
       "      <th>50%</th>\n",
       "      <td>1.171710e+06</td>\n",
       "      <td>4.000000</td>\n",
       "      <td>1.000000</td>\n",
       "      <td>1.000000</td>\n",
       "      <td>1.000000</td>\n",
       "      <td>2.000000</td>\n",
       "      <td>3.000000</td>\n",
       "      <td>1.000000</td>\n",
       "      <td>1.000000</td>\n",
       "      <td>2.000000</td>\n",
       "    </tr>\n",
       "    <tr>\n",
       "      <th>75%</th>\n",
       "      <td>1.238298e+06</td>\n",
       "      <td>6.000000</td>\n",
       "      <td>5.000000</td>\n",
       "      <td>5.000000</td>\n",
       "      <td>4.000000</td>\n",
       "      <td>4.000000</td>\n",
       "      <td>5.000000</td>\n",
       "      <td>4.000000</td>\n",
       "      <td>1.000000</td>\n",
       "      <td>4.000000</td>\n",
       "    </tr>\n",
       "    <tr>\n",
       "      <th>max</th>\n",
       "      <td>1.345435e+07</td>\n",
       "      <td>10.000000</td>\n",
       "      <td>10.000000</td>\n",
       "      <td>10.000000</td>\n",
       "      <td>10.000000</td>\n",
       "      <td>10.000000</td>\n",
       "      <td>10.000000</td>\n",
       "      <td>10.000000</td>\n",
       "      <td>10.000000</td>\n",
       "      <td>4.000000</td>\n",
       "    </tr>\n",
       "  </tbody>\n",
       "</table>\n",
       "</div>"
      ],
      "text/plain": [
       "                 id  clump_thickness  uniform_cell_size  uniform_cell_shape  \\\n",
       "count  6.990000e+02       699.000000         699.000000          699.000000   \n",
       "mean   1.071704e+06         4.417740           3.134478            3.207439   \n",
       "std    6.170957e+05         2.815741           3.051459            2.971913   \n",
       "min    6.163400e+04         1.000000           1.000000            1.000000   \n",
       "25%    8.706885e+05         2.000000           1.000000            1.000000   \n",
       "50%    1.171710e+06         4.000000           1.000000            1.000000   \n",
       "75%    1.238298e+06         6.000000           5.000000            5.000000   \n",
       "max    1.345435e+07        10.000000          10.000000           10.000000   \n",
       "\n",
       "       marginal_adhesion  single_epithelial_size  bland_chromatin  \\\n",
       "count         699.000000              699.000000       699.000000   \n",
       "mean            2.806867                3.216023         3.437768   \n",
       "std             2.855379                2.214300         2.438364   \n",
       "min             1.000000                1.000000         1.000000   \n",
       "25%             1.000000                2.000000         2.000000   \n",
       "50%             1.000000                2.000000         3.000000   \n",
       "75%             4.000000                4.000000         5.000000   \n",
       "max            10.000000               10.000000        10.000000   \n",
       "\n",
       "       normal_nucleoli     mitoses       class  \n",
       "count       699.000000  699.000000  699.000000  \n",
       "mean          2.866953    1.589413    2.689557  \n",
       "std           3.053634    1.715078    0.951273  \n",
       "min           1.000000    1.000000    2.000000  \n",
       "25%           1.000000    1.000000    2.000000  \n",
       "50%           1.000000    1.000000    2.000000  \n",
       "75%           4.000000    1.000000    4.000000  \n",
       "max          10.000000   10.000000    4.000000  "
      ]
     },
     "execution_count": 4,
     "metadata": {},
     "output_type": "execute_result"
    }
   ],
   "source": [
    "dataframe.describe()"
   ]
  },
  {
   "cell_type": "markdown",
   "metadata": {},
   "source": [
    "* All values are between 1 and 10."
   ]
  },
  {
   "cell_type": "code",
   "execution_count": 5,
   "metadata": {},
   "outputs": [
    {
     "data": {
      "text/plain": [
       "1     402\n",
       "10    132\n",
       "5      30\n",
       "2      30\n",
       "3      28\n",
       "8      21\n",
       "4      19\n",
       "?      16\n",
       "9       9\n",
       "7       8\n",
       "6       4\n",
       "Name: bare_nuclei, dtype: int64"
      ]
     },
     "execution_count": 5,
     "metadata": {},
     "output_type": "execute_result"
    }
   ],
   "source": [
    "dataframe['bare_nuclei'].value_counts()"
   ]
  },
  {
   "cell_type": "markdown",
   "metadata": {},
   "source": [
    "* 16 values in the `bare_nuclei` are unknown (missing values)."
   ]
  },
  {
   "cell_type": "code",
   "execution_count": 6,
   "metadata": {},
   "outputs": [
    {
     "data": {
      "text/plain": [
       "(683, 11)"
      ]
     },
     "execution_count": 6,
     "metadata": {},
     "output_type": "execute_result"
    }
   ],
   "source": [
    "dataframe = dataframe[dataframe['bare_nuclei']!='?']\n",
    "dataframe.loc[:, 'bare_nuclei'] = dataframe['bare_nuclei'].astype('int64')\n",
    "dataframe.shape"
   ]
  },
  {
   "cell_type": "markdown",
   "metadata": {},
   "source": [
    "* Rows that contain `bare_nuclei` were dropped. \n",
    "* Column `bare_nuclei` was changed from `object` to `int64`."
   ]
  },
  {
   "cell_type": "code",
   "execution_count": 7,
   "metadata": {},
   "outputs": [],
   "source": [
    "def draw_barplot(df, column_name, x_position):\n",
    "    \"\"\"\n",
    "    This function displays a graph (barplot) of value counts of each value in a given column (feature). \n",
    "    \n",
    "    Args:\n",
    "        *df (DataFrame): The dataframe \n",
    "        *column_name (str): Name of a column from which to select the data.\n",
    "        *x_position (float): This parameter helps more for the esthetic of the graph. Change it so the text above\n",
    "                             each bar is located at the center of each bar. \n",
    "        \n",
    "    Returns:\n",
    "        * ---\n",
    "    \"\"\"\n",
    "    # Tabular value counts of column with sorted index.\n",
    "    column_value_counts = dataframe[column_name].value_counts().sort_index()\n",
    "    # Draw barplot.\n",
    "    img = column_value_counts.plot(kind='bar')\n",
    "    # Set x-label, y-label and the title of the barplot.\n",
    "    plt.xlabel(column_name)\n",
    "    plt.ylabel('frequency')\n",
    "    title = 'Frequency for ' + column_name\n",
    "    plt.title(title)\n",
    "    # Set initial x position in such way that the number appears in the middle of the horizontal size of the first bar.\n",
    "    x_position = x_position\n",
    "    # Iteration over values to be written above each bar.\n",
    "    for value in column_value_counts:\n",
    "        plt.text(x_position, value + 2, str(value))\n",
    "        x_position += 1"
   ]
  },
  {
   "cell_type": "code",
   "execution_count": 8,
   "metadata": {
    "scrolled": false
   },
   "outputs": [
    {
     "data": {
      "image/png": "[encoded data removed]",
      "text/plain": [
       "<Figure size 576x360 with 1 Axes>"
      ]
     },
     "metadata": {
      "needs_background": "light"
     },
     "output_type": "display_data"
    },
    {
     "data": {
      "image/png": "[encoded data removed]",
      "text/plain": [
       "<Figure size 576x360 with 1 Axes>"
      ]
     },
     "metadata": {
      "needs_background": "light"
     },
     "output_type": "display_data"
    },
    {
     "data": {
      "image/png": "[encoded data removed]",
      "text/plain": [
       "<Figure size 576x360 with 1 Axes>"
      ]
     },
     "metadata": {
      "needs_background": "light"
     },
     "output_type": "display_data"
    },
    {
     "data": {
      "image/png": "[encoded data removed]",
      "text/plain": [
       "<Figure size 576x360 with 1 Axes>"
      ]
     },
     "metadata": {
      "needs_background": "light"
     },
     "output_type": "display_data"
    },
    {
     "data": {
      "image/png": "[encoded data removed]",
      "text/plain": [
       "<Figure size 576x360 with 1 Axes>"
      ]
     },
     "metadata": {
      "needs_background": "light"
     },
     "output_type": "display_data"
    },
    {
     "data": {
      "image/png": "[encoded data removed]",
      "text/plain": [
       "<Figure size 576x360 with 1 Axes>"
      ]
     },
     "metadata": {
      "needs_background": "light"
     },
     "output_type": "display_data"
    },
    {
     "data": {
      "image/png": "[encoded data removed]",
      "text/plain": [
       "<Figure size 576x360 with 1 Axes>"
      ]
     },
     "metadata": {
      "needs_background": "light"
     },
     "output_type": "display_data"
    },
    {
     "data": {
      "image/png": "[encoded data removed]",
      "text/plain": [
       "<Figure size 576x360 with 1 Axes>"
      ]
     },
     "metadata": {
      "needs_background": "light"
     },
     "output_type": "display_data"
    },
    {
     "data": {
      "image/png": "[encoded data removed]",
      "text/plain": [
       "<Figure size 576x360 with 1 Axes>"
      ]
     },
     "metadata": {
      "needs_background": "light"
     },
     "output_type": "display_data"
    }
   ],
   "source": [
    "for column_name in dataframe.iloc[:, (dataframe.columns!='id') & (dataframe.columns!='class')].columns:\n",
    "    draw_barplot(dataframe, column_name, -0.15)\n",
    "    plt.pause(interval=0.1)"
   ]
  },
  {
   "cell_type": "code",
   "execution_count": 9,
   "metadata": {},
   "outputs": [
    {
     "data": {
      "image/png": "[encoded data removed]",
      "text/plain": [
       "<Figure size 576x360 with 1 Axes>"
      ]
     },
     "metadata": {
      "needs_background": "light"
     },
     "output_type": "display_data"
    }
   ],
   "source": [
    "draw_barplot(dataframe, 'class', -0.05)"
   ]
  },
  {
   "cell_type": "markdown",
   "metadata": {},
   "source": [
    "* 2 is benign and 4 is malignant."
   ]
  },
  {
   "cell_type": "code",
   "execution_count": 10,
   "metadata": {},
   "outputs": [
    {
     "data": {
      "text/plain": [
       "2    0.650073\n",
       "4    0.349927\n",
       "Name: class, dtype: float64"
      ]
     },
     "execution_count": 10,
     "metadata": {},
     "output_type": "execute_result"
    }
   ],
   "source": [
    "dataframe['class'].value_counts(normalize=True)"
   ]
  },
  {
   "cell_type": "markdown",
   "metadata": {},
   "source": [
    "* We have imbalance data. 65% of the data belongs to class 2 and the other 35% to class 4."
   ]
  },
  {
   "cell_type": "code",
   "execution_count": 11,
   "metadata": {},
   "outputs": [],
   "source": [
    "columns_list = dataframe.columns.to_list()\n",
    "columns_list.remove('id')\n",
    "columns_list.remove('class')"
   ]
  },
  {
   "cell_type": "code",
   "execution_count": 12,
   "metadata": {},
   "outputs": [],
   "source": [
    "boxplot_vectors = [dataframe[i].values for i in columns_list]"
   ]
  },
  {
   "cell_type": "code",
   "execution_count": 13,
   "metadata": {},
   "outputs": [
    {
     "data": {
      "image/png": "[encoded data removed]",
      "text/plain": [
       "<Figure size 576x360 with 1 Axes>"
      ]
     },
     "metadata": {
      "needs_background": "light"
     },
     "output_type": "display_data"
    }
   ],
   "source": [
    "plt.boxplot(boxplot_vectors)\n",
    "plt.xticks([1,2,3,4,5,6,7,8,9], columns_list, rotation='vertical')\n",
    "plt.ylabel('frequency')\n",
    "plt.title('Boxplot for different columns');"
   ]
  },
  {
   "cell_type": "markdown",
   "metadata": {},
   "source": [
    "* Most data is right skewed.\n",
    "* Maybe it is a log distribution or a power law distribution. We can try with both log or a cox-box transformation."
   ]
  },
  {
   "cell_type": "code",
   "execution_count": 14,
   "metadata": {},
   "outputs": [
    {
     "data": {
      "text/html": [
       "<div>\n",
       "<style scoped>\n",
       "    .dataframe tbody tr th:only-of-type {\n",
       "        vertical-align: middle;\n",
       "    }\n",
       "\n",
       "    .dataframe tbody tr th {\n",
       "        vertical-align: top;\n",
       "    }\n",
       "\n",
       "    .dataframe thead th {\n",
       "        text-align: right;\n",
       "    }\n",
       "</style>\n",
       "<table border=\"1\" class=\"dataframe\">\n",
       "  <thead>\n",
       "    <tr style=\"text-align: right;\">\n",
       "      <th></th>\n",
       "      <th>id</th>\n",
       "      <th>clump_thickness</th>\n",
       "      <th>uniform_cell_size</th>\n",
       "      <th>uniform_cell_shape</th>\n",
       "      <th>marginal_adhesion</th>\n",
       "      <th>single_epithelial_size</th>\n",
       "      <th>bare_nuclei</th>\n",
       "      <th>bland_chromatin</th>\n",
       "      <th>normal_nucleoli</th>\n",
       "      <th>mitoses</th>\n",
       "      <th>class</th>\n",
       "    </tr>\n",
       "  </thead>\n",
       "  <tbody>\n",
       "    <tr>\n",
       "      <th>id</th>\n",
       "      <td>1.000000</td>\n",
       "      <td>-0.056350</td>\n",
       "      <td>-0.041396</td>\n",
       "      <td>-0.042221</td>\n",
       "      <td>-0.069630</td>\n",
       "      <td>-0.048644</td>\n",
       "      <td>-0.099248</td>\n",
       "      <td>-0.061966</td>\n",
       "      <td>-0.050699</td>\n",
       "      <td>-0.037972</td>\n",
       "      <td>-0.084701</td>\n",
       "    </tr>\n",
       "    <tr>\n",
       "      <th>clump_thickness</th>\n",
       "      <td>-0.056350</td>\n",
       "      <td>1.000000</td>\n",
       "      <td>0.642481</td>\n",
       "      <td>0.653470</td>\n",
       "      <td>0.487829</td>\n",
       "      <td>0.523596</td>\n",
       "      <td>0.593091</td>\n",
       "      <td>0.553742</td>\n",
       "      <td>0.534066</td>\n",
       "      <td>0.350957</td>\n",
       "      <td>0.714790</td>\n",
       "    </tr>\n",
       "    <tr>\n",
       "      <th>uniform_cell_size</th>\n",
       "      <td>-0.041396</td>\n",
       "      <td>0.642481</td>\n",
       "      <td>1.000000</td>\n",
       "      <td>0.907228</td>\n",
       "      <td>0.706977</td>\n",
       "      <td>0.753544</td>\n",
       "      <td>0.691709</td>\n",
       "      <td>0.755559</td>\n",
       "      <td>0.719346</td>\n",
       "      <td>0.460755</td>\n",
       "      <td>0.820801</td>\n",
       "    </tr>\n",
       "    <tr>\n",
       "      <th>uniform_cell_shape</th>\n",
       "      <td>-0.042221</td>\n",
       "      <td>0.653470</td>\n",
       "      <td>0.907228</td>\n",
       "      <td>1.000000</td>\n",
       "      <td>0.685948</td>\n",
       "      <td>0.722462</td>\n",
       "      <td>0.713878</td>\n",
       "      <td>0.735344</td>\n",
       "      <td>0.717963</td>\n",
       "      <td>0.441258</td>\n",
       "      <td>0.821891</td>\n",
       "    </tr>\n",
       "    <tr>\n",
       "      <th>marginal_adhesion</th>\n",
       "      <td>-0.069630</td>\n",
       "      <td>0.487829</td>\n",
       "      <td>0.706977</td>\n",
       "      <td>0.685948</td>\n",
       "      <td>1.000000</td>\n",
       "      <td>0.594548</td>\n",
       "      <td>0.670648</td>\n",
       "      <td>0.668567</td>\n",
       "      <td>0.603121</td>\n",
       "      <td>0.418898</td>\n",
       "      <td>0.706294</td>\n",
       "    </tr>\n",
       "    <tr>\n",
       "      <th>single_epithelial_size</th>\n",
       "      <td>-0.048644</td>\n",
       "      <td>0.523596</td>\n",
       "      <td>0.753544</td>\n",
       "      <td>0.722462</td>\n",
       "      <td>0.594548</td>\n",
       "      <td>1.000000</td>\n",
       "      <td>0.585716</td>\n",
       "      <td>0.618128</td>\n",
       "      <td>0.628926</td>\n",
       "      <td>0.480583</td>\n",
       "      <td>0.690958</td>\n",
       "    </tr>\n",
       "    <tr>\n",
       "      <th>bare_nuclei</th>\n",
       "      <td>-0.099248</td>\n",
       "      <td>0.593091</td>\n",
       "      <td>0.691709</td>\n",
       "      <td>0.713878</td>\n",
       "      <td>0.670648</td>\n",
       "      <td>0.585716</td>\n",
       "      <td>1.000000</td>\n",
       "      <td>0.680615</td>\n",
       "      <td>0.584280</td>\n",
       "      <td>0.339210</td>\n",
       "      <td>0.822696</td>\n",
       "    </tr>\n",
       "    <tr>\n",
       "      <th>bland_chromatin</th>\n",
       "      <td>-0.061966</td>\n",
       "      <td>0.553742</td>\n",
       "      <td>0.755559</td>\n",
       "      <td>0.735344</td>\n",
       "      <td>0.668567</td>\n",
       "      <td>0.618128</td>\n",
       "      <td>0.680615</td>\n",
       "      <td>1.000000</td>\n",
       "      <td>0.665602</td>\n",
       "      <td>0.346011</td>\n",
       "      <td>0.758228</td>\n",
       "    </tr>\n",
       "    <tr>\n",
       "      <th>normal_nucleoli</th>\n",
       "      <td>-0.050699</td>\n",
       "      <td>0.534066</td>\n",
       "      <td>0.719346</td>\n",
       "      <td>0.717963</td>\n",
       "      <td>0.603121</td>\n",
       "      <td>0.628926</td>\n",
       "      <td>0.584280</td>\n",
       "      <td>0.665602</td>\n",
       "      <td>1.000000</td>\n",
       "      <td>0.433757</td>\n",
       "      <td>0.718677</td>\n",
       "    </tr>\n",
       "    <tr>\n",
       "      <th>mitoses</th>\n",
       "      <td>-0.037972</td>\n",
       "      <td>0.350957</td>\n",
       "      <td>0.460755</td>\n",
       "      <td>0.441258</td>\n",
       "      <td>0.418898</td>\n",
       "      <td>0.480583</td>\n",
       "      <td>0.339210</td>\n",
       "      <td>0.346011</td>\n",
       "      <td>0.433757</td>\n",
       "      <td>1.000000</td>\n",
       "      <td>0.423448</td>\n",
       "    </tr>\n",
       "    <tr>\n",
       "      <th>class</th>\n",
       "      <td>-0.084701</td>\n",
       "      <td>0.714790</td>\n",
       "      <td>0.820801</td>\n",
       "      <td>0.821891</td>\n",
       "      <td>0.706294</td>\n",
       "      <td>0.690958</td>\n",
       "      <td>0.822696</td>\n",
       "      <td>0.758228</td>\n",
       "      <td>0.718677</td>\n",
       "      <td>0.423448</td>\n",
       "      <td>1.000000</td>\n",
       "    </tr>\n",
       "  </tbody>\n",
       "</table>\n",
       "</div>"
      ],
      "text/plain": [
       "                              id  clump_thickness  uniform_cell_size  \\\n",
       "id                      1.000000        -0.056350          -0.041396   \n",
       "clump_thickness        -0.056350         1.000000           0.642481   \n",
       "uniform_cell_size      -0.041396         0.642481           1.000000   \n",
       "uniform_cell_shape     -0.042221         0.653470           0.907228   \n",
       "marginal_adhesion      -0.069630         0.487829           0.706977   \n",
       "single_epithelial_size -0.048644         0.523596           0.753544   \n",
       "bare_nuclei            -0.099248         0.593091           0.691709   \n",
       "bland_chromatin        -0.061966         0.553742           0.755559   \n",
       "normal_nucleoli        -0.050699         0.534066           0.719346   \n",
       "mitoses                -0.037972         0.350957           0.460755   \n",
       "class                  -0.084701         0.714790           0.820801   \n",
       "\n",
       "                        uniform_cell_shape  marginal_adhesion  \\\n",
       "id                               -0.042221          -0.069630   \n",
       "clump_thickness                   0.653470           0.487829   \n",
       "uniform_cell_size                 0.907228           0.706977   \n",
       "uniform_cell_shape                1.000000           0.685948   \n",
       "marginal_adhesion                 0.685948           1.000000   \n",
       "single_epithelial_size            0.722462           0.594548   \n",
       "bare_nuclei                       0.713878           0.670648   \n",
       "bland_chromatin                   0.735344           0.668567   \n",
       "normal_nucleoli                   0.717963           0.603121   \n",
       "mitoses                           0.441258           0.418898   \n",
       "class                             0.821891           0.706294   \n",
       "\n",
       "                        single_epithelial_size  bare_nuclei  bland_chromatin  \\\n",
       "id                                   -0.048644    -0.099248        -0.061966   \n",
       "clump_thickness                       0.523596     0.593091         0.553742   \n",
       "uniform_cell_size                     0.753544     0.691709         0.755559   \n",
       "uniform_cell_shape                    0.722462     0.713878         0.735344   \n",
       "marginal_adhesion                     0.594548     0.670648         0.668567   \n",
       "single_epithelial_size                1.000000     0.585716         0.618128   \n",
       "bare_nuclei                           0.585716     1.000000         0.680615   \n",
       "bland_chromatin                       0.618128     0.680615         1.000000   \n",
       "normal_nucleoli                       0.628926     0.584280         0.665602   \n",
       "mitoses                               0.480583     0.339210         0.346011   \n",
       "class                                 0.690958     0.822696         0.758228   \n",
       "\n",
       "                        normal_nucleoli   mitoses     class  \n",
       "id                            -0.050699 -0.037972 -0.084701  \n",
       "clump_thickness                0.534066  0.350957  0.714790  \n",
       "uniform_cell_size              0.719346  0.460755  0.820801  \n",
       "uniform_cell_shape             0.717963  0.441258  0.821891  \n",
       "marginal_adhesion              0.603121  0.418898  0.706294  \n",
       "single_epithelial_size         0.628926  0.480583  0.690958  \n",
       "bare_nuclei                    0.584280  0.339210  0.822696  \n",
       "bland_chromatin                0.665602  0.346011  0.758228  \n",
       "normal_nucleoli                1.000000  0.433757  0.718677  \n",
       "mitoses                        0.433757  1.000000  0.423448  \n",
       "class                          0.718677  0.423448  1.000000  "
      ]
     },
     "execution_count": 14,
     "metadata": {},
     "output_type": "execute_result"
    }
   ],
   "source": [
    "dataframe.corr()"
   ]
  },
  {
   "cell_type": "markdown",
   "metadata": {},
   "source": [
    "* The highest correlation is between `uniform_cell_size` and `uniform_cell_shape` with a value of 0.907228."
   ]
  },
  {
   "cell_type": "code",
   "execution_count": 15,
   "metadata": {},
   "outputs": [],
   "source": [
    "X = dataframe.drop(columns=['id', 'class'])\n",
    "y = dataframe['class']"
   ]
  },
  {
   "cell_type": "code",
   "execution_count": 16,
   "metadata": {},
   "outputs": [],
   "source": [
    "def train_test_valid(X, y):\n",
    "    \"\"\"\n",
    "    This function helps obtain a training dataset, a testing dataset and a validation dataset in order to\n",
    "    train our model, tune hyperparameters and then validate the model with an unseen dataset.\n",
    "    \n",
    "    Args:\n",
    "        * X (DataFrame): Dataframe which contains data to train model. \n",
    "        * y (Series): Labels.\n",
    "        \n",
    "    Returns:\n",
    "        * X_train (DataFrame): Dataset use for training. \n",
    "        * X_test (DataFrame): Dataset use for hyperparameter tuning.\n",
    "        * X_valid (DataFrame): Dataset use to valid the performane of our model.\n",
    "        * y_train (Series): Labels use for training.\n",
    "        * y_test (Series): Labels use for hyperparameter tuning.\n",
    "        * y_valid (Series): Labels use to valid the performance of our model.\n",
    "    \"\"\"\n",
    "    \n",
    "    X_x, X_valid, y_y, y_valid = train_test_split(X,\n",
    "                                                  y,\n",
    "                                                  test_size = 0.2,\n",
    "                                                  random_state = random_state,\n",
    "                                                  shuffle = True,\n",
    "                                                  stratify = y)\n",
    "    \n",
    "    X_train, X_test, y_train, y_test = train_test_split(X_x,\n",
    "                                                        y_y,\n",
    "                                                        test_size = 0.25,\n",
    "                                                        random_state = random_state,\n",
    "                                                        shuffle = True,\n",
    "                                                        stratify = y_y)\n",
    "    \n",
    "    return X_train, X_test, X_valid, y_train, y_test, y_valid"
   ]
  },
  {
   "cell_type": "code",
   "execution_count": 17,
   "metadata": {},
   "outputs": [],
   "source": [
    "X_train, X_test, X_valid, y_train, y_test, y_valid = train_test_valid(X, y)"
   ]
  },
  {
   "cell_type": "markdown",
   "metadata": {},
   "source": [
    "## 3. Building Model & Hyperparameter Tuning\n",
    "### 3.1 K-Neighbors Classifier"
   ]
  },
  {
   "cell_type": "code",
   "execution_count": 18,
   "metadata": {},
   "outputs": [
    {
     "name": "stdout",
     "output_type": "stream",
     "text": [
      "Recall score: 0.9583333333333334\n",
      "Best parameters: {'algorithm': 'brute', 'n_neighbors': 7}\n",
      "---------------------------------------------\n",
      "              precision    recall  f1-score   support\n",
      "\n",
      "           2       0.98      0.98      0.98        89\n",
      "           4       0.96      0.96      0.96        48\n",
      "\n",
      "    accuracy                           0.97       137\n",
      "   macro avg       0.97      0.97      0.97       137\n",
      "weighted avg       0.97      0.97      0.97       137\n",
      "\n"
     ]
    }
   ],
   "source": [
    "knn = KNeighborsClassifier()\n",
    "\n",
    "knn_parameters = {'n_neighbors': np.arange(4,10,1),\n",
    "                  'algorithm': ['brute']}\n",
    "\n",
    "custom_scorer = make_scorer(recall_score, greater_is_better=True,  pos_label=4)\n",
    "\n",
    "knn_cv = GridSearchCV(knn, param_grid = knn_parameters, cv = 5, n_jobs = -1, scoring = custom_scorer)\n",
    "knn_cv.fit(X_train, y_train)\n",
    "\n",
    "knn_y_pred = knn_cv.predict(X_test)\n",
    "\n",
    "knn_accuracy_score = recall_score(y_test, knn_y_pred, pos_label=4) \n",
    "\n",
    "print(\"Recall score: \" + str(knn_accuracy_score))\n",
    "print(\"Best parameters: \" + str(knn_cv.best_params_))\n",
    "print('---------------------------------------------')\n",
    "print(classification_report(y_test, knn_y_pred))"
   ]
  },
  {
   "cell_type": "code",
   "execution_count": 19,
   "metadata": {},
   "outputs": [
    {
     "name": "stdout",
     "output_type": "stream",
     "text": [
      "KNeighborsClassifier(algorithm='brute', leaf_size=30, metric='minkowski',\n",
      "                     metric_params=None, n_jobs=None, n_neighbors=7, p=2,\n",
      "                     weights='uniform')\n"
     ]
    }
   ],
   "source": [
    "pickle.dump(knn_cv.best_estimator_, open('models/knn_01-08-2021.pkl', 'wb'))\n",
    "print(knn_cv.best_estimator_)"
   ]
  },
  {
   "cell_type": "markdown",
   "metadata": {},
   "source": [
    "### 3.2 Logistic Regression"
   ]
  },
  {
   "cell_type": "code",
   "execution_count": 20,
   "metadata": {},
   "outputs": [
    {
     "name": "stdout",
     "output_type": "stream",
     "text": [
      "Recall score: 0.9166666666666666\n",
      "Best parameters: {'solver': 'lbfgs'}\n",
      "---------------------------------------------\n",
      "              precision    recall  f1-score   support\n",
      "\n",
      "           2       0.96      0.96      0.96        89\n",
      "           4       0.92      0.92      0.92        48\n",
      "\n",
      "    accuracy                           0.94       137\n",
      "   macro avg       0.94      0.94      0.94       137\n",
      "weighted avg       0.94      0.94      0.94       137\n",
      "\n"
     ]
    }
   ],
   "source": [
    "weights = {2:1, 4:2}\n",
    "\n",
    "logit = LogisticRegression(penalty = 'none', class_weight=weights, random_state=101096)\n",
    "\n",
    "logit_parameters = {'solver':['lbfgs', 'liblinear']}\n",
    "\n",
    "custom_scorer = make_scorer(recall_score, greater_is_better=True,  pos_label=4)\n",
    "\n",
    "logit_cv = GridSearchCV(logit, param_grid = logit_parameters, cv = 5, n_jobs = -1, scoring = custom_scorer)\n",
    "logit_cv.fit(X_train, y_train)\n",
    "\n",
    "logit_y_pred = logit_cv.predict(X_test)\n",
    "logit_y_prob = logit_cv.predict_proba(X_test)\n",
    "\n",
    "logit_recall_score = recall_score(y_test, logit_y_pred, pos_label=4) \n",
    "\n",
    "print(\"Recall score: \" + str(logit_recall_score))\n",
    "print(\"Best parameters: \" + str(logit_cv.best_params_))\n",
    "print('---------------------------------------------')\n",
    "print(classification_report(y_test, logit_y_pred))"
   ]
  },
  {
   "cell_type": "code",
   "execution_count": 21,
   "metadata": {},
   "outputs": [],
   "source": [
    "def feature_importance(model, column_names):\n",
    "    \"\"\"\n",
    "    This function plots a horizontal graph displaying in order of importance the features used for classification.\n",
    "    \n",
    "    Args:\n",
    "        * model (GridSearchCV object): GridSearchCV object.\n",
    "        * column_names (Index object): Name of the columns.\n",
    "    \n",
    "    Returns:\n",
    "        * ---    \n",
    "    \"\"\"\n",
    "    # Create a DataFrame holding feature names in one column and the coefficient values on the other column.\n",
    "    feature_importance_df = pd.DataFrame({'features':column_names,\n",
    "                                         'coefficient':model.best_estimator_.coef_[0]})\n",
    "    # Calculate the absolute values of the coefficients and save them in new column named 'abs'.\n",
    "    feature_importance_df['abs'] = np.abs(feature_importance_df['coefficient'])\n",
    "    # Sort DataFrame using the 'abs' column.\n",
    "    sorted_df = feature_importance_df.sort_values(by='abs', ascending=False)\n",
    "    # Display the horizontal barplot.\n",
    "    sns.barplot(data=sorted_df, y='features', x='coefficient', orient='h', color='black')\n",
    "    # Set title.\n",
    "    plt.title('Feature Importance')\n",
    "    # Print the coefficients with their resprected names.\n",
    "    print(sorted_df[['features', 'coefficient']])"
   ]
  },
  {
   "cell_type": "code",
   "execution_count": 22,
   "metadata": {},
   "outputs": [
    {
     "name": "stdout",
     "output_type": "stream",
     "text": [
      "                 features  coefficient\n",
      "1       uniform_cell_size     0.687173\n",
      "5             bare_nuclei     0.650956\n",
      "2      uniform_cell_shape     0.522622\n",
      "0         clump_thickness     0.486857\n",
      "6         bland_chromatin     0.335397\n",
      "7         normal_nucleoli     0.308382\n",
      "3       marginal_adhesion    -0.288051\n",
      "8                 mitoses     0.260587\n",
      "4  single_epithelial_size    -0.081469\n"
     ]
    },
    {
     "data": {
      "image/png": "[encoded data removed]",
      "text/plain": [
       "<Figure size 576x360 with 1 Axes>"
      ]
     },
     "metadata": {
      "needs_background": "light"
     },
     "output_type": "display_data"
    }
   ],
   "source": [
    "feature_importance(logit_cv, X.columns)"
   ]
  },
  {
   "cell_type": "code",
   "execution_count": 23,
   "metadata": {},
   "outputs": [],
   "source": [
    "list_predictions = [2 if prediction[0] >= 0.8 else 4 for prediction in logit_y_prob]"
   ]
  },
  {
   "cell_type": "code",
   "execution_count": 24,
   "metadata": {},
   "outputs": [
    {
     "name": "stdout",
     "output_type": "stream",
     "text": [
      "              precision    recall  f1-score   support\n",
      "\n",
      "           2       0.99      0.93      0.96        89\n",
      "           4       0.89      0.98      0.93        48\n",
      "\n",
      "    accuracy                           0.95       137\n",
      "   macro avg       0.94      0.96      0.95       137\n",
      "weighted avg       0.95      0.95      0.95       137\n",
      "\n"
     ]
    }
   ],
   "source": [
    "print(classification_report(y_test, list_predictions))"
   ]
  },
  {
   "cell_type": "code",
   "execution_count": 25,
   "metadata": {},
   "outputs": [
    {
     "name": "stdout",
     "output_type": "stream",
     "text": [
      "LogisticRegression(C=1.0, class_weight={2: 1, 4: 2}, dual=False,\n",
      "                   fit_intercept=True, intercept_scaling=1, l1_ratio=None,\n",
      "                   max_iter=100, multi_class='auto', n_jobs=None,\n",
      "                   penalty='none', random_state=101096, solver='lbfgs',\n",
      "                   tol=0.0001, verbose=0, warm_start=False)\n"
     ]
    }
   ],
   "source": [
    "pickle.dump(logit_cv.best_estimator_, open('models/logit_01-08-2021.pkl', 'wb'))\n",
    "print(logit_cv.best_estimator_)"
   ]
  },
  {
   "cell_type": "markdown",
   "metadata": {},
   "source": [
    "### 3.3 Support Vector Machines"
   ]
  },
  {
   "cell_type": "code",
   "execution_count": 26,
   "metadata": {},
   "outputs": [
    {
     "name": "stdout",
     "output_type": "stream",
     "text": [
      "Recall score: 0.9583333333333334\n",
      "Best parameters: {'C': 10, 'gamma': 0.001}\n",
      "---------------------------------------------\n",
      "              precision    recall  f1-score   support\n",
      "\n",
      "           2       0.98      0.98      0.98        89\n",
      "           4       0.96      0.96      0.96        48\n",
      "\n",
      "    accuracy                           0.97       137\n",
      "   macro avg       0.97      0.97      0.97       137\n",
      "weighted avg       0.97      0.97      0.97       137\n",
      "\n"
     ]
    }
   ],
   "source": [
    "weights = {2:2, 4:1}\n",
    "\n",
    "svm = SVC(random_state=101096, kernel='sigmoid', class_weight=weights)\n",
    "\n",
    "svm_parameters = {'gamma': [0.001, 0.01, 0.1],\n",
    "                  'C': [0.001, 0.01, 0.1, 1, 10]}\n",
    "\n",
    "custom_scorer = make_scorer(recall_score, greater_is_better=True,  pos_label=4)\n",
    "\n",
    "svm_cv = GridSearchCV(svm, param_grid = svm_parameters, cv = 5, n_jobs=-1, scoring = custom_scorer) \n",
    "svm_cv.fit(X_train, y_train)\n",
    "\n",
    "svm_y_pred = svm_cv.predict(X_test)\n",
    "\n",
    "svm_recall_score = recall_score(y_test, svm_y_pred, pos_label=4) \n",
    "\n",
    "print(\"Recall score: \" + str(svm_recall_score))\n",
    "print(\"Best parameters: \" + str(svm_cv.best_params_))\n",
    "print('---------------------------------------------')\n",
    "print(classification_report(y_test, svm_y_pred))"
   ]
  },
  {
   "cell_type": "code",
   "execution_count": 27,
   "metadata": {},
   "outputs": [
    {
     "name": "stdout",
     "output_type": "stream",
     "text": [
      "SVC(C=10, break_ties=False, cache_size=200, class_weight={2: 2, 4: 1},\n",
      "    coef0=0.0, decision_function_shape='ovr', degree=3, gamma=0.001,\n",
      "    kernel='sigmoid', max_iter=-1, probability=False, random_state=101096,\n",
      "    shrinking=True, tol=0.001, verbose=False)\n"
     ]
    }
   ],
   "source": [
    "pickle.dump(svm_cv.best_estimator_, open('models/svm_01-08-2021.pkl', 'wb'))\n",
    "print(svm_cv.best_estimator_)"
   ]
  },
  {
   "cell_type": "markdown",
   "metadata": {},
   "source": [
    "## 4. Validation"
   ]
  },
  {
   "cell_type": "code",
   "execution_count": 28,
   "metadata": {},
   "outputs": [
    {
     "name": "stdout",
     "output_type": "stream",
     "text": [
      "K-Nearest Neighbours: \n",
      "\n",
      "              precision    recall  f1-score   support\n",
      "\n",
      "           2       0.98      0.97      0.97        89\n",
      "           4       0.94      0.96      0.95        48\n",
      "\n",
      "    accuracy                           0.96       137\n",
      "   macro avg       0.96      0.96      0.96       137\n",
      "weighted avg       0.96      0.96      0.96       137\n",
      "\n",
      "\n",
      " \n",
      "\n",
      "Logistic Regression \n",
      "\n",
      "              precision    recall  f1-score   support\n",
      "\n",
      "           2       0.99      0.96      0.97        89\n",
      "           4       0.92      0.98      0.95        48\n",
      "\n",
      "    accuracy                           0.96       137\n",
      "   macro avg       0.95      0.97      0.96       137\n",
      "weighted avg       0.96      0.96      0.96       137\n",
      "\n",
      "\n",
      " \n",
      "\n",
      "Support Vector Machine: \n",
      "\n",
      "              precision    recall  f1-score   support\n",
      "\n",
      "           2       0.97      0.97      0.97        89\n",
      "           4       0.94      0.94      0.94        48\n",
      "\n",
      "    accuracy                           0.96       137\n",
      "   macro avg       0.95      0.95      0.95       137\n",
      "weighted avg       0.96      0.96      0.96       137\n",
      "\n"
     ]
    }
   ],
   "source": [
    "# Load models\n",
    "knn_loaded = pickle.load(open('models/knn_01-08-2021.pkl', 'rb'))\n",
    "logit_loaded = pickle.load(open('models/logit_01-08-2021.pkl', 'rb'))\n",
    "svm_loaded = pickle.load(open('models/svm_01-08-2021.pkl', 'rb'))\n",
    "\n",
    "# Predict values\n",
    "knn_results = knn_loaded.predict(X_valid)\n",
    "logit_prob = logit_loaded.predict_proba(X_valid)\n",
    "svm_results = svm_loaded.predict(X_valid)\n",
    "\n",
    "logit_results = [2 if prediction[0] >= 0.8 else 4 for prediction in logit_prob]\n",
    "\n",
    "# Confusion Matrices\n",
    "print('K-Nearest Neighbours: \\n')\n",
    "print(classification_report(y_valid, knn_results))\n",
    "print('\\n \\n')\n",
    "print('Logistic Regression \\n')\n",
    "print(classification_report(y_valid, logit_results))\n",
    "print('\\n \\n')\n",
    "print('Support Vector Machine: \\n')\n",
    "print(classification_report(y_valid, svm_results))"
   ]
  }
 ],
 "metadata": {
  "kernelspec": {
   "display_name": "Python 3",
   "language": "python",
   "name": "python3"
  },
  "language_info": {
   "codemirror_mode": {
    "name": "ipython",
    "version": 3
   },
   "file_extension": ".py",
   "mimetype": "text/x-python",
   "name": "python",
   "nbconvert_exporter": "python",
   "pygments_lexer": "ipython3",
   "version": "3.7.6"
  }
 },
 "nbformat": 4,
 "nbformat_minor": 4
}
